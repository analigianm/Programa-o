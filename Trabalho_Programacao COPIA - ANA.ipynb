{
 "cells": [
  {
   "cell_type": "markdown",
   "metadata": {},
   "source": [
    "[<img src=\"http://www.cba.inpe.br/imagens/INPE%20BR/logo_inpe2.gif\" alt=\"Instituto Nacionalde Pesquisas Espaciais \" width=\"400\" align=\"left\">](http://www.inpe.br/)<br><br><br>\n",
    "\n",
    "# <span style=\"color:black\">Trabalho Final da Disciplina de Introdução à Programação para Sensoriamento Remoto (SER-347)</span>\n",
    "<hr style=\"border:0.5px solid #black;\">\n",
    "\n",
    "# <span style=\"color:black\">Análise temporal do índice de vegetação NDVI baseados nos focos de incêndio registrados no banco BDQueimadas</span>\n",
    "\n",
    "- Ana Lígia do Nascimento Martins\n",
    "- Izak Francisco Justi"
   ]
  },
  {
   "cell_type": "markdown",
   "metadata": {},
   "source": [
    "## Conceituação\n",
    "<p style=\"text-align: justify;\">O Programa de Monitoramento de Queimadas foi desenvolvido e implementado pelo Instituto Nacional de Pesquisas Espaciais (INPE), possibilitando o acompanhamento de queimadas e incêndios florestais a partir de imagens de satélites, sendo assim, uma ferramenta muito importante, principalmente em regiões remotas sem meios intensivos e locais de acompanhamento, condição dominante em grande parte do país.\n",
    "O sistema é capaz de gerar e disponibilizar produtos diariamente de maneira gratuita, como coordenadas geográficas de focos de incêndio, alertas por e-mail e ocorrências em áreas de interesse especial, mapas de risco de fogo, estimativas de concentração de fumaça, mapas de áreas queimadas, entre outros. Para tanto, são utilizadas imagens processadas a partir dos sensores a bordo dos satélites NOAA-15, NOAA-18, NOAA-19, METOP-B, MODIS, NPP-Suomi, GOES-13 e MSG-3. Os dados são atualizados na página do Programa sete vezes ao dia.</p>"
   ]
  },
  {
   "cell_type": "markdown",
   "metadata": {},
   "source": [
    "<p style=\"text-align: justify;\">Os dados pontuais de focos de incêndio, gerados diariamente das diversas plataformas espaciais são armazenados em um banco de dados conhecido como [BDQueimadas](http://www.inpe.br/queimadas/bdqueimadas). Esse banco de dados pode ser acessado livremente a partir do site do Programa Queimadas, permitindo acesso a dados históricos de todo o país. Os dados podem ser obtidos em formatos com extensão CSV, GeoJSON, KML ou shapefile a escolha do usuário.</p>"
   ]
  },
  {
   "cell_type": "markdown",
   "metadata": {},
   "source": [
    "<p style=\"text-align: justify;\">O estudo do comportamento e da dinâmica dos incêndios envolvem diversos fatores como a precipitação, clima, indicadores socio-econômicos, entre outros. Um dos fatores mais importantes é a vegetação, que atua como combustível nos incêndios. Portanto, é fundamental analisar seu comportamento para melhor compreensão dos eventos de queimada.</p>"
   ]
  },
  {
   "cell_type": "markdown",
   "metadata": {},
   "source": [
    "<p style=\"text-align: justify;\">Para tanto, os índices de vegetação são uma excelente ferramenta para estudos da vegetação. Eles são obtidos a partir da razão entre as refectâncias da vegetação em determindas regiões do espectro eletromagnético. Entre eles se destacam o *Normalized Vegetation Index* (NDVI) e o *Enhanced Vegetation Index* (EVI). A fórmula para obtenção desses índices são demonstradas abaixo:</p>"
   ]
  },
  {
   "cell_type": "markdown",
   "metadata": {},
   "source": [
    "*Normalized Difference Vegetation Index* \\begin{align*}\\textrm{NDVI}=\\frac{\\rho_{\\textrm{nir}}-\\rho_{\\textrm{red}}}{\\rho_{\\textrm{nir}}+\\rho_{\\textrm{red}}}\\end{align*}"
   ]
  },
  {
   "cell_type": "markdown",
   "metadata": {},
   "source": [
    "*Enhanced Vegetation Index* \\begin{align*}\\textrm{EVI}=G \\cdot \\frac{\\rho_{\\textrm{nir}}+\\rho_{\\textrm{red}}}{\\rho_{\\textrm{nir}} + C_{\\textrm{1}}  \\cdot \\rho_{\\textrm{red}} - C_{\\textrm{2}} \\cdot \\rho_{\\textrm{blue}}  + L}\\end{align*}"
   ]
  },
  {
   "cell_type": "markdown",
   "metadata": {},
   "source": [
    "Onde:<br>\n",
    "$\\rho_{red} =$ Reflectância na banda do vermelho;<br>\n",
    "$\\rho_{nir} =$ Reflectância na banda do infravermelho próximo;<br>\n",
    "$\\rho_{blue} =$ Reflectância na banda do azul;<br>\n",
    "$G = 2,5$;<br>\n",
    "$L = 1$;<br>\n",
    "$C_1 = 6$;<br>\n",
    "$C_2 = 7,5$."
   ]
  },
  {
   "cell_type": "markdown",
   "metadata": {},
   "source": [
    "<p style=\"text-align: justify;\">A bordo do satélite Terra e Aqua, o [sensor MODIS](https://terra.nasa.gov/about/terra-instruments/modis) possui uma ampla faixa de visualização de 2.330 km de largura, e período de revisita de 1-2 dias com sensibilidade a 36 bandas espectrais discretas. Consequentemente, o MODIS rastreia uma ampla gama de sinais vitais da Terra do que qualquer outro sensor Terra.</p>"
   ]
  },
  {
   "cell_type": "markdown",
   "metadata": {},
   "source": [
    "<p style=\"text-align: justify;\">A partir dos dados oriundos desse sensor são gerados diversos produtos periodiamente para análise da superfície terrestre entre eles o NDVI e o EVI, componentes do produto [MOD13Q1](https://lpdaac.usgs.gov/dataset_discovery/modis/modis_products_table/mod13q1_v006). Esse produto fornece os índices de vegetação de toda superfície terrestre a cada 16 dias com precisão de 250 metros o qual será utilizado para o desenvolvimento desse trabalho.</p>"
   ]
  },
  {
   "cell_type": "markdown",
   "metadata": {},
   "source": [
    "## Desenvolvimento\n",
    "<p style=\"text-align: justify;\">Os dados pontuais de focos de incêndio foram obtidos do banco [BDQueimadas](http://www.inpe.br/queimadas/bdqueimadas) em formato *.shp*. Os pontos de focos de incêndio obtidos através do portal compreendem todo o município analisado por um determinado período de tempo.</p>\n",
    "\n",
    "<p style=\"text-align: justify;\">Além disso, foi delimitado uma área de interesse para o monitoramento também em formato *.shp*.\n",
    "\n",
    "<p style=\"text-align: justify;\">Ambos arquivos foram importados para o ambiente Python utilizando a biblioteca [GeoPandas](http://geopandas.org/).</p>"
   ]
  },
  {
   "cell_type": "code",
   "execution_count": 1,
   "metadata": {
    "scrolled": true
   },
   "outputs": [],
   "source": [
    "import geopandas as gpd\n",
    "point = gpd.GeoDataFrame.from_file('Dados\\Focos.2015-01-01.2015-12-31.shp') \n",
    "poly  = gpd.GeoDataFrame.from_file('Dados\\Area_Interesse.shp')\n"
   ]
  },
  {
   "cell_type": "markdown",
   "metadata": {},
   "source": [
    "Através da ferramenta 'sjoin' disponível na biblioteca [GeoPandas](http://geopandas.org/), foi possível selecionar apenas o pontos contidos dentro da área de interesse."
   ]
  },
  {
   "cell_type": "code",
   "execution_count": 2,
   "metadata": {},
   "outputs": [
    {
     "data": {
      "text/html": [
       "<div>\n",
       "<style scoped>\n",
       "    .dataframe tbody tr th:only-of-type {\n",
       "        vertical-align: middle;\n",
       "    }\n",
       "\n",
       "    .dataframe tbody tr th {\n",
       "        vertical-align: top;\n",
       "    }\n",
       "\n",
       "    .dataframe thead th {\n",
       "        text-align: right;\n",
       "    }\n",
       "</style>\n",
       "<table border=\"1\" class=\"dataframe\">\n",
       "  <thead>\n",
       "    <tr style=\"text-align: right;\">\n",
       "      <th></th>\n",
       "      <th>DataHora</th>\n",
       "      <th>Satelite</th>\n",
       "      <th>Pais</th>\n",
       "      <th>Estado</th>\n",
       "      <th>Municipi</th>\n",
       "      <th>Bioma</th>\n",
       "      <th>DiaSemCh</th>\n",
       "      <th>Precipit</th>\n",
       "      <th>RiscoFog</th>\n",
       "      <th>Latitude</th>\n",
       "      <th>Longitud</th>\n",
       "      <th>AreaIndu</th>\n",
       "      <th>FRP</th>\n",
       "      <th>geometry</th>\n",
       "      <th>index_right</th>\n",
       "      <th>id</th>\n",
       "    </tr>\n",
       "  </thead>\n",
       "  <tbody>\n",
       "    <tr>\n",
       "      <th>77</th>\n",
       "      <td>2015/02/12 16:09:00</td>\n",
       "      <td>NPP_375</td>\n",
       "      <td>Brasil</td>\n",
       "      <td>Espirito Santo</td>\n",
       "      <td>Serra</td>\n",
       "      <td>Mata Atlantica</td>\n",
       "      <td>0</td>\n",
       "      <td>0.0</td>\n",
       "      <td>0.0</td>\n",
       "      <td>-20.19133</td>\n",
       "      <td>-40.28257</td>\n",
       "      <td>None</td>\n",
       "      <td>3.8</td>\n",
       "      <td>POINT (-40.28257 -20.19133)</td>\n",
       "      <td>0.0</td>\n",
       "      <td>None</td>\n",
       "    </tr>\n",
       "    <tr>\n",
       "      <th>80</th>\n",
       "      <td>2015/02/13 15:50:00</td>\n",
       "      <td>NPP_375</td>\n",
       "      <td>Brasil</td>\n",
       "      <td>Espirito Santo</td>\n",
       "      <td>Serra</td>\n",
       "      <td>Mata Atlantica</td>\n",
       "      <td>0</td>\n",
       "      <td>0.0</td>\n",
       "      <td>0.0</td>\n",
       "      <td>-20.19165</td>\n",
       "      <td>-40.28241</td>\n",
       "      <td>None</td>\n",
       "      <td>2.4</td>\n",
       "      <td>POINT (-40.28241 -20.19165)</td>\n",
       "      <td>0.0</td>\n",
       "      <td>None</td>\n",
       "    </tr>\n",
       "    <tr>\n",
       "      <th>92</th>\n",
       "      <td>2015/02/15 04:23:00</td>\n",
       "      <td>NPP_375</td>\n",
       "      <td>Brasil</td>\n",
       "      <td>Espirito Santo</td>\n",
       "      <td>Serra</td>\n",
       "      <td>Mata Atlantica</td>\n",
       "      <td>0</td>\n",
       "      <td>0.0</td>\n",
       "      <td>0.0</td>\n",
       "      <td>-20.19436</td>\n",
       "      <td>-40.28326</td>\n",
       "      <td>None</td>\n",
       "      <td>1.6</td>\n",
       "      <td>POINT (-40.28326 -20.19436)</td>\n",
       "      <td>0.0</td>\n",
       "      <td>None</td>\n",
       "    </tr>\n",
       "    <tr>\n",
       "      <th>93</th>\n",
       "      <td>2015/02/15 04:23:00</td>\n",
       "      <td>NPP_375</td>\n",
       "      <td>Brasil</td>\n",
       "      <td>Espirito Santo</td>\n",
       "      <td>Serra</td>\n",
       "      <td>Mata Atlantica</td>\n",
       "      <td>0</td>\n",
       "      <td>0.0</td>\n",
       "      <td>0.0</td>\n",
       "      <td>-20.19012</td>\n",
       "      <td>-40.28268</td>\n",
       "      <td>None</td>\n",
       "      <td>1.6</td>\n",
       "      <td>POINT (-40.28268 -20.19012)</td>\n",
       "      <td>0.0</td>\n",
       "      <td>None</td>\n",
       "    </tr>\n",
       "    <tr>\n",
       "      <th>96</th>\n",
       "      <td>2015/02/15 16:53:00</td>\n",
       "      <td>NPP_375</td>\n",
       "      <td>Brasil</td>\n",
       "      <td>Espirito Santo</td>\n",
       "      <td>Serra</td>\n",
       "      <td>Mata Atlantica</td>\n",
       "      <td>0</td>\n",
       "      <td>0.0</td>\n",
       "      <td>0.0</td>\n",
       "      <td>-20.19333</td>\n",
       "      <td>-40.28279</td>\n",
       "      <td>None</td>\n",
       "      <td>5.6</td>\n",
       "      <td>POINT (-40.28279 -20.19333)</td>\n",
       "      <td>0.0</td>\n",
       "      <td>None</td>\n",
       "    </tr>\n",
       "  </tbody>\n",
       "</table>\n",
       "</div>"
      ],
      "text/plain": [
       "               DataHora Satelite    Pais          Estado Municipi  \\\n",
       "77  2015/02/12 16:09:00  NPP_375  Brasil  Espirito Santo    Serra   \n",
       "80  2015/02/13 15:50:00  NPP_375  Brasil  Espirito Santo    Serra   \n",
       "92  2015/02/15 04:23:00  NPP_375  Brasil  Espirito Santo    Serra   \n",
       "93  2015/02/15 04:23:00  NPP_375  Brasil  Espirito Santo    Serra   \n",
       "96  2015/02/15 16:53:00  NPP_375  Brasil  Espirito Santo    Serra   \n",
       "\n",
       "             Bioma  DiaSemCh  Precipit  RiscoFog  Latitude  Longitud AreaIndu  \\\n",
       "77  Mata Atlantica         0       0.0       0.0 -20.19133 -40.28257     None   \n",
       "80  Mata Atlantica         0       0.0       0.0 -20.19165 -40.28241     None   \n",
       "92  Mata Atlantica         0       0.0       0.0 -20.19436 -40.28326     None   \n",
       "93  Mata Atlantica         0       0.0       0.0 -20.19012 -40.28268     None   \n",
       "96  Mata Atlantica         0       0.0       0.0 -20.19333 -40.28279     None   \n",
       "\n",
       "    FRP                     geometry  index_right    id  \n",
       "77  3.8  POINT (-40.28257 -20.19133)          0.0  None  \n",
       "80  2.4  POINT (-40.28241 -20.19165)          0.0  None  \n",
       "92  1.6  POINT (-40.28326 -20.19436)          0.0  None  \n",
       "93  1.6  POINT (-40.28268 -20.19012)          0.0  None  \n",
       "96  5.6  POINT (-40.28279 -20.19333)          0.0  None  "
      ]
     },
     "execution_count": 2,
     "metadata": {},
     "output_type": "execute_result"
    }
   ],
   "source": [
    "from geopandas.tools import sjoin\n",
    "pointInPolys = sjoin(point, poly, how='left')\n",
    "focos = pointInPolys[pointInPolys.index_right == 0]\n",
    "focos.head()"
   ]
  },
  {
   "cell_type": "markdown",
   "metadata": {},
   "source": [
    "<p style=\"text-align: justify;\">A partir da seleção foi gerado um novo dataframe, apenas com os pontos de interesse.</p>"
   ]
  },
  {
   "cell_type": "code",
   "execution_count": 3,
   "metadata": {},
   "outputs": [],
   "source": [
    "colunas = focos.columns\n",
    "valores = focos.values\n",
    "focos_int= gpd.GeoDataFrame(valores,columns=colunas)"
   ]
  },
  {
   "cell_type": "markdown",
   "metadata": {},
   "source": [
    "<p style=\"text-align: justify;\">Foram então adicionadas e calculadas as colunas de data inicial e final para obtenção da série temporal com auxílio da biblioteca [datetime](https://docs.python.org/2/library/datetime.html#), bem como renomeados os índices das colunas referentes a latitude e longitude. Dessa forma, padronizando o DataFrame segundo as exigências do pacote WTSS, que será utilizado posteriormente.</p>\n",
    "\n",
    "<p style=\"text-align: justify;\">Para execução da função, considerou-se 6 meses igual a 180 dias.</p>"
   ]
  },
  {
   "cell_type": "code",
   "execution_count": 4,
   "metadata": {
    "scrolled": true
   },
   "outputs": [
    {
     "name": "stderr",
     "output_type": "stream",
     "text": [
      "C:\\Users\\algnm\\Anaconda3\\envs\\neogeo\\lib\\site-packages\\ipykernel_launcher.py:11: SettingWithCopyWarning: \n",
      "A value is trying to be set on a copy of a slice from a DataFrame\n",
      "\n",
      "See the caveats in the documentation: http://pandas.pydata.org/pandas-docs/stable/indexing.html#indexing-view-versus-copy\n",
      "  # This is added back by InteractiveShellApp.init_path()\n",
      "C:\\Users\\algnm\\Anaconda3\\envs\\neogeo\\lib\\site-packages\\ipykernel_launcher.py:12: SettingWithCopyWarning: \n",
      "A value is trying to be set on a copy of a slice from a DataFrame\n",
      "\n",
      "See the caveats in the documentation: http://pandas.pydata.org/pandas-docs/stable/indexing.html#indexing-view-versus-copy\n",
      "  if sys.path[0] == '':\n"
     ]
    }
   ],
   "source": [
    "import datetime as dt\n",
    "import pandas as pd\n",
    "\n",
    "focos_int[\"DataHora\"] = pd.to_datetime(focos_int[\"DataHora\"])\n",
    "focos_int['start_date'] = \"\"\n",
    "focos_int['end_date'] = \"\"\n",
    "focos_int['label'] = \"Área de Interesse\"\n",
    "focos_int.rename(columns={\"Latitude\": \"latitude\",\"Longitud\": \"longitude\"}, inplace=True)\n",
    "\n",
    "for j in range(len(focos_int)):\n",
    "    focos_int['start_date'][j] = ((focos_int['DataHora'][j]) + dt.timedelta(days=-90)).strftime('%Y-%m-%d')\n",
    "    focos_int['end_date'][j] = ((focos_int['DataHora'][j]) + dt.timedelta(days=90)).strftime('%Y-%m-%d')"
   ]
  },
  {
   "cell_type": "code",
   "execution_count": 5,
   "metadata": {
    "scrolled": false
   },
   "outputs": [
    {
     "data": {
      "text/html": [
       "<div>\n",
       "<style scoped>\n",
       "    .dataframe tbody tr th:only-of-type {\n",
       "        vertical-align: middle;\n",
       "    }\n",
       "\n",
       "    .dataframe tbody tr th {\n",
       "        vertical-align: top;\n",
       "    }\n",
       "\n",
       "    .dataframe thead th {\n",
       "        text-align: right;\n",
       "    }\n",
       "</style>\n",
       "<table border=\"1\" class=\"dataframe\">\n",
       "  <thead>\n",
       "    <tr style=\"text-align: right;\">\n",
       "      <th></th>\n",
       "      <th>DataHora</th>\n",
       "      <th>Satelite</th>\n",
       "      <th>Pais</th>\n",
       "      <th>Estado</th>\n",
       "      <th>Municipi</th>\n",
       "      <th>Bioma</th>\n",
       "      <th>DiaSemCh</th>\n",
       "      <th>Precipit</th>\n",
       "      <th>RiscoFog</th>\n",
       "      <th>latitude</th>\n",
       "      <th>longitude</th>\n",
       "      <th>AreaIndu</th>\n",
       "      <th>FRP</th>\n",
       "      <th>geometry</th>\n",
       "      <th>index_right</th>\n",
       "      <th>id</th>\n",
       "      <th>start_date</th>\n",
       "      <th>end_date</th>\n",
       "      <th>label</th>\n",
       "    </tr>\n",
       "  </thead>\n",
       "  <tbody>\n",
       "    <tr>\n",
       "      <th>0</th>\n",
       "      <td>2015-02-12 16:09:00</td>\n",
       "      <td>NPP_375</td>\n",
       "      <td>Brasil</td>\n",
       "      <td>Espirito Santo</td>\n",
       "      <td>Serra</td>\n",
       "      <td>Mata Atlantica</td>\n",
       "      <td>0</td>\n",
       "      <td>0</td>\n",
       "      <td>0</td>\n",
       "      <td>-20.1913</td>\n",
       "      <td>-40.2826</td>\n",
       "      <td>None</td>\n",
       "      <td>3.8</td>\n",
       "      <td>POINT (-40.28257 -20.19133)</td>\n",
       "      <td>0</td>\n",
       "      <td>None</td>\n",
       "      <td>2014-11-14</td>\n",
       "      <td>2015-05-13</td>\n",
       "      <td>Área de Interesse</td>\n",
       "    </tr>\n",
       "    <tr>\n",
       "      <th>1</th>\n",
       "      <td>2015-02-13 15:50:00</td>\n",
       "      <td>NPP_375</td>\n",
       "      <td>Brasil</td>\n",
       "      <td>Espirito Santo</td>\n",
       "      <td>Serra</td>\n",
       "      <td>Mata Atlantica</td>\n",
       "      <td>0</td>\n",
       "      <td>0</td>\n",
       "      <td>0</td>\n",
       "      <td>-20.1916</td>\n",
       "      <td>-40.2824</td>\n",
       "      <td>None</td>\n",
       "      <td>2.4</td>\n",
       "      <td>POINT (-40.28241 -20.19165)</td>\n",
       "      <td>0</td>\n",
       "      <td>None</td>\n",
       "      <td>2014-11-15</td>\n",
       "      <td>2015-05-14</td>\n",
       "      <td>Área de Interesse</td>\n",
       "    </tr>\n",
       "    <tr>\n",
       "      <th>2</th>\n",
       "      <td>2015-02-15 04:23:00</td>\n",
       "      <td>NPP_375</td>\n",
       "      <td>Brasil</td>\n",
       "      <td>Espirito Santo</td>\n",
       "      <td>Serra</td>\n",
       "      <td>Mata Atlantica</td>\n",
       "      <td>0</td>\n",
       "      <td>0</td>\n",
       "      <td>0</td>\n",
       "      <td>-20.1944</td>\n",
       "      <td>-40.2833</td>\n",
       "      <td>None</td>\n",
       "      <td>1.6</td>\n",
       "      <td>POINT (-40.28326 -20.19436)</td>\n",
       "      <td>0</td>\n",
       "      <td>None</td>\n",
       "      <td>2014-11-17</td>\n",
       "      <td>2015-05-16</td>\n",
       "      <td>Área de Interesse</td>\n",
       "    </tr>\n",
       "    <tr>\n",
       "      <th>3</th>\n",
       "      <td>2015-02-15 04:23:00</td>\n",
       "      <td>NPP_375</td>\n",
       "      <td>Brasil</td>\n",
       "      <td>Espirito Santo</td>\n",
       "      <td>Serra</td>\n",
       "      <td>Mata Atlantica</td>\n",
       "      <td>0</td>\n",
       "      <td>0</td>\n",
       "      <td>0</td>\n",
       "      <td>-20.1901</td>\n",
       "      <td>-40.2827</td>\n",
       "      <td>None</td>\n",
       "      <td>1.6</td>\n",
       "      <td>POINT (-40.28268 -20.19012)</td>\n",
       "      <td>0</td>\n",
       "      <td>None</td>\n",
       "      <td>2014-11-17</td>\n",
       "      <td>2015-05-16</td>\n",
       "      <td>Área de Interesse</td>\n",
       "    </tr>\n",
       "    <tr>\n",
       "      <th>4</th>\n",
       "      <td>2015-02-15 16:53:00</td>\n",
       "      <td>NPP_375</td>\n",
       "      <td>Brasil</td>\n",
       "      <td>Espirito Santo</td>\n",
       "      <td>Serra</td>\n",
       "      <td>Mata Atlantica</td>\n",
       "      <td>0</td>\n",
       "      <td>0</td>\n",
       "      <td>0</td>\n",
       "      <td>-20.1933</td>\n",
       "      <td>-40.2828</td>\n",
       "      <td>None</td>\n",
       "      <td>5.6</td>\n",
       "      <td>POINT (-40.28279 -20.19333)</td>\n",
       "      <td>0</td>\n",
       "      <td>None</td>\n",
       "      <td>2014-11-17</td>\n",
       "      <td>2015-05-16</td>\n",
       "      <td>Área de Interesse</td>\n",
       "    </tr>\n",
       "  </tbody>\n",
       "</table>\n",
       "</div>"
      ],
      "text/plain": [
       "             DataHora Satelite    Pais          Estado Municipi  \\\n",
       "0 2015-02-12 16:09:00  NPP_375  Brasil  Espirito Santo    Serra   \n",
       "1 2015-02-13 15:50:00  NPP_375  Brasil  Espirito Santo    Serra   \n",
       "2 2015-02-15 04:23:00  NPP_375  Brasil  Espirito Santo    Serra   \n",
       "3 2015-02-15 04:23:00  NPP_375  Brasil  Espirito Santo    Serra   \n",
       "4 2015-02-15 16:53:00  NPP_375  Brasil  Espirito Santo    Serra   \n",
       "\n",
       "            Bioma DiaSemCh Precipit RiscoFog latitude longitude AreaIndu  FRP  \\\n",
       "0  Mata Atlantica        0        0        0 -20.1913  -40.2826     None  3.8   \n",
       "1  Mata Atlantica        0        0        0 -20.1916  -40.2824     None  2.4   \n",
       "2  Mata Atlantica        0        0        0 -20.1944  -40.2833     None  1.6   \n",
       "3  Mata Atlantica        0        0        0 -20.1901  -40.2827     None  1.6   \n",
       "4  Mata Atlantica        0        0        0 -20.1933  -40.2828     None  5.6   \n",
       "\n",
       "                      geometry index_right    id  start_date    end_date  \\\n",
       "0  POINT (-40.28257 -20.19133)           0  None  2014-11-14  2015-05-13   \n",
       "1  POINT (-40.28241 -20.19165)           0  None  2014-11-15  2015-05-14   \n",
       "2  POINT (-40.28326 -20.19436)           0  None  2014-11-17  2015-05-16   \n",
       "3  POINT (-40.28268 -20.19012)           0  None  2014-11-17  2015-05-16   \n",
       "4  POINT (-40.28279 -20.19333)           0  None  2014-11-17  2015-05-16   \n",
       "\n",
       "               label  \n",
       "0  Área de Interesse  \n",
       "1  Área de Interesse  \n",
       "2  Área de Interesse  \n",
       "3  Área de Interesse  \n",
       "4  Área de Interesse  "
      ]
     },
     "execution_count": 5,
     "metadata": {},
     "output_type": "execute_result"
    }
   ],
   "source": [
    "focos_int.head()"
   ]
  },
  {
   "cell_type": "code",
   "execution_count": 15,
   "metadata": {},
   "outputs": [
    {
     "data": {
      "text/plain": [
       "[[-20.19133, -40.28257],\n",
       " [-20.19165, -40.28241],\n",
       " [-20.19436, -40.28326],\n",
       " [-20.19012, -40.28268],\n",
       " [-20.19333, -40.28279],\n",
       " [-20.19186, -40.28313],\n",
       " [-20.19523, -40.2837],\n",
       " [-20.19242, -40.27936],\n",
       " [-20.19081, -40.28302],\n",
       " [-20.19427, -40.28238],\n",
       " [-20.19316, -40.28172],\n",
       " [-20.19508, -40.28226],\n",
       " [-20.19568, -40.28072],\n",
       " [-20.19415, -40.28204],\n",
       " [-20.1962, -40.28103],\n",
       " [-20.19206, -40.28468],\n",
       " [-20.19265, -40.28048],\n",
       " [-20.19306, -40.28299],\n",
       " [-20.19229, -40.28233],\n",
       " [-20.19571, -40.28299],\n",
       " [-20.19262, -40.28273],\n",
       " [-20.18044, -40.2781],\n",
       " [-20.17928, -40.27999],\n",
       " [-20.181, -40.278],\n",
       " [-20.17789, -40.27605]]"
      ]
     },
     "execution_count": 15,
     "metadata": {},
     "output_type": "execute_result"
    }
   ],
   "source": [
    "import folium\n",
    "\n",
    "locations = focos_int[['latitude', 'longitude']]\n",
    "locationlist = locations.values.tolist()\n",
    "len(locationlist)\n",
    "locationlist\n"
   ]
  },
  {
   "cell_type": "code",
   "execution_count": 19,
   "metadata": {},
   "outputs": [
    {
     "data": {
      "text/html": [
       "<div style=\"width:100%;\"><div style=\"position:relative;width:100%;height:0;padding-bottom:60%;\"><iframe src=\"data:text/html;charset=utf-8;base64,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\" style=\"position:absolute;width:100%;height:100%;left:0;top:0;border:none !important;\" allowfullscreen webkitallowfullscreen mozallowfullscreen></iframe></div></div>"
      ],
      "text/plain": [
       "<folium.folium.Map at 0x17c4de3c4a8>"
      ]
     },
     "execution_count": 19,
     "metadata": {},
     "output_type": "execute_result"
    }
   ],
   "source": [
    "map = folium.Map(location=[-20.19133, -40.28257], zoom_start=12)\n",
    "\n",
    "for point in range(0, len(locationlist)):\n",
    "    folium.Marker(locationlist[point], popup=focos_int['Municipi'][point]).add_to(map)\n",
    "map"
   ]
  },
  {
   "cell_type": "markdown",
   "metadata": {},
   "source": [
    "<p style=\"text-align: justify;\">O [WTSS](https://github.com/e-sensing/wtss.py) é um serviço da Web leve para manipular imagens de sensoriamento remoto como séries temporais. Dado um local e um intervalo de tempo, pode-se recuperar as séries temporais correspondentes como uma lista Python de valores reais.</p>\n",
    "\n",
    "<p style=\"text-align: justify;\">Vale ressaltar que o servidor conta com a coleção de imagens *MOD13Q1* do sensor MODIS na versão 6. O catálogo conta com imagens datadas entre 18/02/2000 a 01/01/2018. </p>\n",
    "\n",
    "<p style=\"text-align: justify;\">Primeiramente, é necessário conectar ao servidor de imagens. </p>"
   ]
  },
  {
   "cell_type": "code",
   "execution_count": 6,
   "metadata": {},
   "outputs": [
    {
     "name": "stdout",
     "output_type": "stream",
     "text": [
      "ARRAY: MOD13Q1. Vegetation Indices 16-Day L3 Global 250m - https://lpdaac.usgs.gov/dataset_discovery/modis/modis_products_table/mod13q1\n",
      "\n",
      "TIMELINE:\n",
      "['2000-02-18', '2000-03-05', '2000-03-21']...['2017-12-03', '2017-12-19', '2018-01-01']\n",
      "\n",
      "ATRIBUTOS:\n",
      "mir: 250m 16 days MIR reflectance. Type: int16.Scale factor:0.0001\n",
      "blue: 250m 16 days blue reflectance. Type: int16.Scale factor:0.0001\n",
      "nir: 250m 16 days NIR reflectance. Type: int16.Scale factor:0.0001\n",
      "red: 250m 16 days red reflectance. Type: uint16.Scale factor:0.0001\n",
      "evi: 250m 16 days EVI. Type: int16.Scale factor:0.0001\n",
      "ndvi: 250m 16 days NDVI. Type: int16.Scale factor:0.0001\n"
     ]
    }
   ],
   "source": [
    "from wtss import wtss\n",
    "\n",
    "w = wtss(\"http://www.esensing.dpi.inpe.br\")\n",
    "\n",
    "\n",
    "cv_scheme = w.describe_coverage(\"MOD13Q1\")\n",
    "\n",
    "print (\"ARRAY: {}\".format(cv_scheme[\"name\"]) + \". \" \\\n",
    "       + str (cv_scheme['description']) + \" - \" + str(cv_scheme['detail']))\n",
    "\n",
    "print (\"\\nTIMELINE:\\n{}...{}\".format(cv_scheme['timeline'][0:3], \\\n",
    "                                     cv_scheme['timeline'][-3:]))\n",
    "print (\"\\nATRIBUTOS:\")\n",
    "for el in cv_scheme['attributes']:\n",
    "    att = cv_scheme['attributes'][el]\n",
    "    print (el + \": \" + att['description'] + \". Type: \" + att['datatype'] + \\\n",
    "           \".Scale factor:\" + str(att['scale_factor']))"
   ]
  },
  {
   "cell_type": "markdown",
   "metadata": {},
   "source": [
    "<p style=\"text-align: justify;\">Então, foram utilizadas funções para gerar as séries temporais (wtss_get_time_series), e gerar o gráfico de variação dos índices de vegetação (plot_time_series). </p>\n",
    "\n",
    "<p style=\"text-align: justify;\">Essas funções possuem código aberto e foram obtidas no seguinte endereço: </p>\n",
    "- https://github.com/e-sensing/wgiss-py-webinar/blob/master/tools.py\n"
   ]
  },
  {
   "cell_type": "code",
   "execution_count": 7,
   "metadata": {},
   "outputs": [],
   "source": [
    "import numpy as np\n",
    "import pandas as pd\n",
    "import matplotlib\n",
    "import matplotlib.pyplot as plt\n",
    "from wtss import wtss\n",
    "import json\n",
    "\n",
    "\n",
    "def wtss_get_time_series(samples):\n",
    "    \n",
    "    w = wtss(\"http://www.esensing.dpi.inpe.br\")\n",
    "    data = pd.DataFrame()\n",
    "    for i in range(len(samples)):\n",
    "        ts = w.time_series(\"MOD13Q1\", (\"ndvi\", \"evi\"), \n",
    "                           latitude=samples[\"latitude\"][i], \n",
    "                           longitude=samples[\"longitude\"][i], \n",
    "                           start_date=samples[\"start_date\"][i],\n",
    "                           end_date=samples[\"end_date\"][i])\n",
    "        data = pd.concat([data, \n",
    "                                pd.DataFrame({\"id\": i, \n",
    "                                              \"label\": samples[\"label\"][i],\n",
    "                                              \"start_date\": samples[\"start_date\"][i],\n",
    "                                              \"latitude\": samples[\"latitude\"][i], \n",
    "                                              \"longitude\": samples[\"longitude\"][i], \n",
    "                                              \"timeline\": pd.to_datetime(ts.timeline), \n",
    "                                              \"ndvi\": ts[\"ndvi\"], \n",
    "                                              \"evi\": ts[\"evi\"]},\n",
    "                                             columns=[\"id\", \"label\", \"start_date\", \"latitude\", \"longitude\", \n",
    "                                                      \"timeline\", \"ndvi\", \"evi\"])])\n",
    "    return data\n",
    "\n",
    "\n",
    "def plot_time_series_ndvi(data, w = 15, h = 5):\n",
    "    \n",
    "    labels, index_labels = np.unique(data.groupby(\"id\").agg({\"label\": \"first\"})[\"label\"], \n",
    "                                     return_inverse=True)\n",
    "    colors = plt.cm.jet(plt.Normalize()(np.arange(len(labels))))\n",
    "    \n",
    "    matplotlib.style.use(\"ggplot\")\n",
    "    fig, ax = plt.subplots(1, figsize = (w, h))\n",
    "    fig.subplots_adjust(bottom=0.2)\n",
    "\n",
    "    for i, (key, grp) in enumerate(data.groupby([\"id\"])): \n",
    "        ax.plot((grp[\"timeline\"] - pd.to_datetime(grp[\"start_date\"])) / pd.Timedelta('1 days'), \n",
    "                grp[\"ndvi\"], color=colors[index_labels][i])\n",
    "\n",
    " \n",
    "    plt.xlabel(\"dias após o início da série temporal\")\n",
    "    plt.ylabel(\"NDVI\")\n",
    "\n",
    "    plt.show()\n",
    "    \n",
    "def plot_time_series_evi(data, w = 15, h = 5):\n",
    "    \n",
    "    labels, index_labels = np.unique(data.groupby(\"id\").agg({\"label\": \"first\"})[\"label\"], \n",
    "                                     return_inverse=True)\n",
    "    colors = plt.cm.jet(plt.Normalize()(np.arange(len(labels))))\n",
    "    \n",
    "    matplotlib.style.use(\"ggplot\")\n",
    "    fig, ax = plt.subplots(1, figsize = (w, h))\n",
    "    fig.subplots_adjust(bottom=0.2)\n",
    "\n",
    "    for i, (key, grp) in enumerate(data.groupby([\"id\"])): \n",
    "        ax.plot((grp[\"timeline\"] - pd.to_datetime(grp[\"start_date\"])) / pd.Timedelta('1 days'), \n",
    "                grp[\"evi\"], color=colors[index_labels][i])\n",
    "\n",
    "    plt.xlabel(\"dias após o início da série temporal\")\n",
    "    plt.ylabel(\"EVI\")\n",
    "\n",
    "    plt.show()"
   ]
  },
  {
   "cell_type": "markdown",
   "metadata": {},
   "source": [
    "Aplica-se então a função *wtss_get_time_series* para obter a série temporal de todos os pontos do DataFrame."
   ]
  },
  {
   "cell_type": "code",
   "execution_count": 8,
   "metadata": {
    "scrolled": true
   },
   "outputs": [
    {
     "ename": "KeyError",
     "evalue": "'ndvi'",
     "output_type": "error",
     "traceback": [
      "\u001b[1;31m---------------------------------------------------------------------------\u001b[0m",
      "\u001b[1;31mKeyError\u001b[0m                                  Traceback (most recent call last)",
      "\u001b[1;32m<ipython-input-8-dba7d95dbf44>\u001b[0m in \u001b[0;36m<module>\u001b[1;34m()\u001b[0m\n\u001b[1;32m----> 1\u001b[1;33m \u001b[0msamples_ts\u001b[0m \u001b[1;33m=\u001b[0m \u001b[0mwtss_get_time_series\u001b[0m\u001b[1;33m(\u001b[0m\u001b[0mfocos_int\u001b[0m\u001b[1;33m)\u001b[0m\u001b[1;33m\u001b[0m\u001b[0m\n\u001b[0m\u001b[0;32m      2\u001b[0m \u001b[0msamples_ts\u001b[0m\u001b[1;33m.\u001b[0m\u001b[0mhead\u001b[0m\u001b[1;33m(\u001b[0m\u001b[1;33m)\u001b[0m\u001b[1;33m\u001b[0m\u001b[0m\n",
      "\u001b[1;32m<ipython-input-7-9abb308beedd>\u001b[0m in \u001b[0;36mwtss_get_time_series\u001b[1;34m(samples)\u001b[0m\n\u001b[0;32m     24\u001b[0m                                               \u001b[1;34m\"longitude\"\u001b[0m\u001b[1;33m:\u001b[0m \u001b[0msamples\u001b[0m\u001b[1;33m[\u001b[0m\u001b[1;34m\"longitude\"\u001b[0m\u001b[1;33m]\u001b[0m\u001b[1;33m[\u001b[0m\u001b[0mi\u001b[0m\u001b[1;33m]\u001b[0m\u001b[1;33m,\u001b[0m\u001b[1;33m\u001b[0m\u001b[0m\n\u001b[0;32m     25\u001b[0m                                               \u001b[1;34m\"timeline\"\u001b[0m\u001b[1;33m:\u001b[0m \u001b[0mpd\u001b[0m\u001b[1;33m.\u001b[0m\u001b[0mto_datetime\u001b[0m\u001b[1;33m(\u001b[0m\u001b[0mts\u001b[0m\u001b[1;33m.\u001b[0m\u001b[0mtimeline\u001b[0m\u001b[1;33m)\u001b[0m\u001b[1;33m,\u001b[0m\u001b[1;33m\u001b[0m\u001b[0m\n\u001b[1;32m---> 26\u001b[1;33m                                               \u001b[1;34m\"ndvi\"\u001b[0m\u001b[1;33m:\u001b[0m \u001b[0mts\u001b[0m\u001b[1;33m[\u001b[0m\u001b[1;34m\"ndvi\"\u001b[0m\u001b[1;33m]\u001b[0m\u001b[1;33m,\u001b[0m\u001b[1;33m\u001b[0m\u001b[0m\n\u001b[0m\u001b[0;32m     27\u001b[0m                                               \"evi\": ts[\"evi\"]},\n\u001b[0;32m     28\u001b[0m                                              columns=[\"id\", \"label\", \"start_date\", \"latitude\", \"longitude\", \n",
      "\u001b[1;32m~\\Anaconda3\\envs\\neogeo\\lib\\site-packages\\wtss\\wtss.py\u001b[0m in \u001b[0;36m__getitem__\u001b[1;34m(self, item)\u001b[0m\n\u001b[0;32m    251\u001b[0m             \u001b[1;33m(\u001b[0m\u001b[0mlist\u001b[0m\u001b[1;33m)\u001b[0m\u001b[1;33m:\u001b[0m \u001b[0mvalues\u001b[0m\u001b[1;33m.\u001b[0m\u001b[1;33m\u001b[0m\u001b[0m\n\u001b[0;32m    252\u001b[0m         \"\"\"\n\u001b[1;32m--> 253\u001b[1;33m         \u001b[1;32mreturn\u001b[0m \u001b[0mself\u001b[0m\u001b[1;33m.\u001b[0m\u001b[0mattributes\u001b[0m\u001b[1;33m[\u001b[0m\u001b[0mitem\u001b[0m\u001b[1;33m]\u001b[0m\u001b[1;33m\u001b[0m\u001b[0m\n\u001b[0m\u001b[0;32m    254\u001b[0m \u001b[1;33m\u001b[0m\u001b[0m\n\u001b[0;32m    255\u001b[0m \u001b[1;33m\u001b[0m\u001b[0m\n",
      "\u001b[1;31mKeyError\u001b[0m: 'ndvi'"
     ]
    }
   ],
   "source": [
    "samples_ts = wtss_get_time_series(focos_int)\n",
    "samples_ts.head()"
   ]
  },
  {
   "cell_type": "markdown",
   "metadata": {},
   "source": [
    "Reescalando os valores de NDVI e EVI da série temporal."
   ]
  },
  {
   "cell_type": "code",
   "execution_count": null,
   "metadata": {},
   "outputs": [],
   "source": [
    "samples_ts['ndvi'] *= cv_scheme['attributes']['ndvi']['scale_factor']\n",
    "samples_ts['evi'] *= cv_scheme['attributes']['evi']['scale_factor']"
   ]
  },
  {
   "cell_type": "markdown",
   "metadata": {},
   "source": [
    "Plotando o gráfico com a séries temporais do NDVI."
   ]
  },
  {
   "cell_type": "code",
   "execution_count": null,
   "metadata": {
    "scrolled": true
   },
   "outputs": [],
   "source": [
    "plot_time_series_ndvi(samples_ts)"
   ]
  },
  {
   "cell_type": "markdown",
   "metadata": {},
   "source": [
    "Plotando o gráfico com a séries temporais do EVI."
   ]
  },
  {
   "cell_type": "code",
   "execution_count": null,
   "metadata": {
    "scrolled": true
   },
   "outputs": [],
   "source": [
    "plot_time_series_evi(samples_ts)"
   ]
  },
  {
   "cell_type": "markdown",
   "metadata": {
    "scrolled": true
   },
   "source": [
    "Ordenando os valores de NDVI e EVI segundo as datas."
   ]
  },
  {
   "cell_type": "code",
   "execution_count": null,
   "metadata": {},
   "outputs": [],
   "source": [
    "ndvi=samples_ts.groupby('timeline')['ndvi'].apply(list)\n",
    "evi=samples_ts.groupby('timeline')['evi'].apply(list)"
   ]
  },
  {
   "cell_type": "code",
   "execution_count": null,
   "metadata": {},
   "outputs": [],
   "source": [
    "ndvi[:5]"
   ]
  },
  {
   "cell_type": "code",
   "execution_count": null,
   "metadata": {
    "scrolled": true
   },
   "outputs": [],
   "source": [
    "evi[:5]"
   ]
  },
  {
   "cell_type": "markdown",
   "metadata": {},
   "source": [
    "Obtendo as datas da série."
   ]
  },
  {
   "cell_type": "code",
   "execution_count": null,
   "metadata": {},
   "outputs": [],
   "source": [
    "datas = []\n",
    "for m in range(len(ndvi.index)):\n",
    "    datas.append((ndvi.index[m]).strftime('%d/%m/%Y'))"
   ]
  },
  {
   "cell_type": "markdown",
   "metadata": {},
   "source": [
    "Plotando gráfico estatístico de NDVI."
   ]
  },
  {
   "cell_type": "code",
   "execution_count": null,
   "metadata": {},
   "outputs": [],
   "source": [
    "fig, ax1 = plt.subplots(figsize=(20, 15))\n",
    "fig.canvas.set_window_title('Distribuicao estatistica NDVI')\n",
    "fig.subplots_adjust(left=0.075, right=0.95, top=0.9, bottom=0.25)\n",
    "\n",
    "bp = ax1.boxplot(ndvi, notch=False, sym='+', vert=True, whis=1.5, meanline=True, showmeans=True, showfliers=False)\n",
    "\n",
    "ax1.yaxis.grid(True, linestyle='-', which='major', color='lightgrey',\n",
    "               alpha=0.5)\n",
    "\n",
    "ax1.set_axisbelow(True)\n",
    "ax1.set_title('Distribuição estatística do valor de NDVI', fontdict={'size': 25,'weight': 'bold'})\n",
    "ax1.set_xlabel('Tempo', fontdict={'size': 20})\n",
    "ax1.set_ylabel('NDVI', fontdict={'size': 20})\n",
    "\n",
    "          \n",
    "top = 1\n",
    "bottom = 0\n",
    "ax1.set_ylim(bottom, top)\n",
    "ax1.set_xticklabels(datas, rotation=90, fontsize=15)\n",
    "ax1.set_yticklabels([0,0.2,0.4,0.6,0.8,1], fontsize=15)\n",
    "\n",
    "plt.show()"
   ]
  },
  {
   "cell_type": "markdown",
   "metadata": {},
   "source": [
    "Plotando gráfico estatístico de EVI."
   ]
  },
  {
   "cell_type": "code",
   "execution_count": null,
   "metadata": {},
   "outputs": [],
   "source": [
    "fig, ax1 = plt.subplots(sharey=True,figsize=(20, 15))\n",
    "fig.canvas.set_window_title('Distribuicao estatistica EVI')\n",
    "fig.subplots_adjust(left=0.075, right=0.95, top=0.9, bottom=0.25)\n",
    "\n",
    "bp = ax1.boxplot(evi, notch=False, sym='+', vert=True, whis=1.5, meanline=True, showmeans=True, showfliers=False)\n",
    "\n",
    "ax1.yaxis.grid(True, linestyle='-', which='major', color='lightgrey',\n",
    "               alpha=0.5)\n",
    "\n",
    "ax1.set_axisbelow(True)\n",
    "ax1.set_title('Distribuição estatística do valor de EVI', fontdict={'size': 25,'weight': 'bold'})\n",
    "ax1.set_xlabel('Tempo', fontdict={'size': 20})\n",
    "ax1.set_ylabel('EVI', fontdict={'size': 20})\n",
    "\n",
    "          \n",
    "top = 1\n",
    "bottom = 0\n",
    "ax1.set_ylim(bottom, top)\n",
    "ax1.set_xticklabels(datas, rotation=90, fontsize=15)\n",
    "ax1.set_yticklabels([0,0.2,0.4,0.6,0.8,1], fontsize=15)\n",
    "\n",
    "plt.show()"
   ]
  },
  {
   "cell_type": "markdown",
   "metadata": {},
   "source": [
    "Plotando o gráfico comparativo entre ambos índices."
   ]
  },
  {
   "cell_type": "code",
   "execution_count": null,
   "metadata": {},
   "outputs": [],
   "source": [
    "from matplotlib.patches import Polygon\n",
    "\n",
    "numDists = len(datas)\n",
    "randomDists = datas\n",
    "data = []\n",
    "\n",
    "for l in range(len(datas)):\n",
    "    data.append(np.array(ndvi[l]))\n",
    "    data.append(np.array(evi[l]))\n",
    "\n",
    "\n",
    "fig, ax1 = plt.subplots(figsize=(20,15))\n",
    "\n",
    "fig.subplots_adjust(left=0.075, right=0.95, top=0.9, bottom=0.25)\n",
    "\n",
    "bp = ax1.boxplot(data, notch=0, sym='+', vert=1, whis=1.5, showfliers=False)\n",
    "plt.setp(bp['boxes'], color='black')\n",
    "plt.setp(bp['whiskers'], color='black')\n",
    "plt.setp(bp['medians'], color='red',linestyle='-')\n",
    "\n",
    "ax1.yaxis.grid(True, linestyle='--', which='major', color='lightgrey',\n",
    "               alpha=0.5)\n",
    "\n",
    "\n",
    "ax1.set_axisbelow(True)\n",
    "ax1.set_title('Comparação entre as distribuições estatísticas entre NDVI e EVI', fontdict={'size': 25,'weight': 'bold'})\n",
    "ax1.set_xlabel('Data', fontdict={'size': 20,'weight': 'normal', 'style':'italic'})\n",
    "ax1.set_ylabel('Valor', fontdict={'size': 20,'weight': 'normal', 'style':'italic'})\n",
    "\n",
    "\n",
    "boxColors = ['teal', 'green']\n",
    "numBoxes = numDists*2\n",
    "medians = list(range(numBoxes))\n",
    "for i in range(numBoxes):\n",
    "    box = bp['boxes'][i]\n",
    "    boxX = []\n",
    "    boxY = []\n",
    "    for j in range(5):\n",
    "        boxX.append(box.get_xdata()[j])\n",
    "        boxY.append(box.get_ydata()[j])\n",
    "    boxCoords = np.column_stack([boxX, boxY])\n",
    "    \n",
    "    k = i % 2\n",
    "    boxPolygon = Polygon(boxCoords, facecolor=boxColors[k])\n",
    "    ax1.add_patch(boxPolygon)\n",
    "    \n",
    "    med = bp['medians'][i]\n",
    "    medianX = []\n",
    "    medianY = []\n",
    "    for j in range(2):\n",
    "        medianX.append(med.get_xdata()[j])\n",
    "        medianY.append(med.get_ydata()[j])\n",
    "        ax1.plot(medianX, medianY, 'k')\n",
    "        medians[i] = medianY[0]\n",
    "    ax1.plot([np.average(med.get_xdata())], [np.average(data[i])],\n",
    "             color='black', marker='o', markeredgecolor='k')\n",
    "\n",
    "top = 1\n",
    "bottom = 0\n",
    "ax1.set_ylim(bottom, top)\n",
    "ax1.set_xticklabels(np.repeat(randomDists, 2),\n",
    "                    rotation=90, fontsize=13)\n",
    "ax1.set_yticklabels([0,0.2,0.4,0.6,0.8,1], fontsize=13)\n",
    "\n",
    "pos = np.arange(numBoxes) + 1\n",
    "upperLabels = [str(np.round(s, 2)) for s in medians]\n",
    "for tick, label in zip(range(numBoxes), ax1.get_xticklabels()):\n",
    "    k = tick % 2\n",
    "    ax1.text(pos[tick], top - (top*0.05), upperLabels[tick],\n",
    "             horizontalalignment='center', weight='normal',\n",
    "             color=boxColors[k],\n",
    "                    rotation=90)\n",
    "\n",
    "fig.text(0.80, 0.08, 'NDVI',\n",
    "         backgroundcolor=boxColors[0], color='black', weight='roman',\n",
    "         size='x-large')\n",
    "fig.text(0.80, 0.045, 'EVI   ',\n",
    "         backgroundcolor=boxColors[1],\n",
    "         color='white', weight='roman', size='x-large')\n",
    "fig.text(0.80, 0.015, 'o', color='black',\n",
    "         weight='roman', size='x-large')\n",
    "fig.text(0.815, 0.013, ' Média', color='black', weight='roman',\n",
    "         size='x-large')\n",
    "\n",
    "plt.show()\n"
   ]
  },
  {
   "cell_type": "code",
   "execution_count": null,
   "metadata": {},
   "outputs": [],
   "source": []
  },
  {
   "cell_type": "code",
   "execution_count": null,
   "metadata": {},
   "outputs": [],
   "source": []
  },
  {
   "cell_type": "code",
   "execution_count": null,
   "metadata": {},
   "outputs": [],
   "source": []
  }
 ],
 "metadata": {
  "kernelspec": {
   "display_name": "Python 3",
   "language": "python",
   "name": "python3"
  },
  "language_info": {
   "codemirror_mode": {
    "name": "ipython",
    "version": 3
   },
   "file_extension": ".py",
   "mimetype": "text/x-python",
   "name": "python",
   "nbconvert_exporter": "python",
   "pygments_lexer": "ipython3",
   "version": "3.6.5"
  }
 },
 "nbformat": 4,
 "nbformat_minor": 2
}
